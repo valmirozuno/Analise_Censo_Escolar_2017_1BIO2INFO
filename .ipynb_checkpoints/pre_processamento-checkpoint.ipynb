{
 "cells": [
  {
   "cell_type": "markdown",
   "metadata": {},
   "source": [
    "## Foi feita manualmente coloquei uma base de cada vez com os nomes\n",
    "\n",
    "1. co_subset.csv\n",
    "2. norte_subset.csv,\n",
    "3. nordeste, sudeste, sul)"
   ]
  },
  {
   "cell_type": "code",
   "execution_count": 1,
   "metadata": {},
   "outputs": [],
   "source": [
    "import numpy as np\n",
    "import pandas as pd\n",
    "import matplotlib.pyplot as plt\n",
    "import dask.dataframe as dd\n",
    "\n",
    "%matplotlib inline"
   ]
  },
  {
   "cell_type": "code",
   "execution_count": 2,
   "metadata": {},
   "outputs": [
    {
     "name": "stdout",
     "output_type": "stream",
     "text": [
      "1\n",
      "2\n",
      "3\n",
      "4\n",
      "5\n",
      "6\n",
      "7\n",
      "8\n",
      "9\n",
      "10\n",
      "11\n",
      "12\n",
      "13\n",
      "14\n",
      "15\n",
      "16\n",
      "17\n",
      "18\n",
      "19\n",
      "20\n",
      "21\n",
      "22\n",
      "23\n",
      "24\n",
      "25\n",
      "26\n",
      "27\n",
      "28\n",
      "29\n",
      "30\n",
      "31\n",
      "32\n",
      "33\n",
      "34\n",
      "35\n",
      "36\n",
      "37\n",
      "38\n",
      "salvando...\n"
     ]
    },
    {
     "data": {
      "text/plain": [
       "353345"
      ]
     },
     "execution_count": 2,
     "metadata": {},
     "output_type": "execute_result"
    }
   ],
   "source": [
    "# selecao do subset da base\n",
    "dc_all = {\n",
    "    'CO':'DADOS/DOCENTES_CO.CSV',\n",
    "    'NORDESTE': 'DADOS/DOCENTES_NORDESTE.CSV',\n",
    "    'NORTE': 'DADOS/DOCENTES_NORTE.CSV',\n",
    "    'SUDESTE': 'DADOS/DOCENTES_SUDESTE.CSV',\n",
    "    'SUL': 'DADOS/DOCENTES_SUL.CSV',\n",
    "}\n",
    "data = pd.DataFrame()\n",
    "cont = 1\n",
    "u_cols=[0, 2, 3, 4, 5, 9, 10, 17, 18, 19, 20, 21, 22, 23, 24, 26, 27, 28, 29, 30, 31, 32, 33, 34, 35, 36, 37, 38, 39, 40, 41, 42, 43, 44, 45, 46, 47, 48, 49, 50, 51, 52, 53, 81, 82, 83, 84, 85, 86, 87, 88, 89, 90, 91, 92, 93, 94, 95, 96, 97, 98, 99, 100, 101, 102, 103, 104, 105, 106, 107, 108, 109, 110, 111, 119, 121, 122, 123, 124, 125, 126, 127, 128, 129, 130, 131]\n",
    "for chunk in pd.read_csv('DADOS/DOCENTES_NORTE.CSV', sep='|',chunksize=30000, low_memory=False):\n",
    "    chunk = chunk.drop(chunk[chunk.TP_DEPENDENCIA == 1].index)\n",
    "    chunk = chunk.drop(chunk[chunk.TP_DEPENDENCIA == 4].index)\n",
    "\n",
    "    #elimina os alunos que nao sao do Ensino Médio\n",
    "    chunk = chunk.drop(chunk[chunk.TP_ETAPA_ENSINO < 25].index)\n",
    "    chunk = chunk.drop(chunk[chunk.TP_ETAPA_ENSINO > 38].index)\n",
    "    data = data.append(chunk)\n",
    "    print(cont)\n",
    "    cont += 1\n",
    "print('salvando...')\n",
    "data.shape[0]"
   ]
  },
  {
   "cell_type": "code",
   "execution_count": 3,
   "metadata": {},
   "outputs": [],
   "source": [
    "data.to_csv('norte_subset.csv')"
   ]
  }
 ],
 "metadata": {
  "kernelspec": {
   "display_name": "Python 3",
   "language": "python",
   "name": "python3"
  },
  "language_info": {
   "codemirror_mode": {
    "name": "ipython",
    "version": 2
   },
   "file_extension": ".py",
   "mimetype": "text/x-python",
   "name": "python",
   "nbconvert_exporter": "python",
   "pygments_lexer": "ipython2",
   "version": "2.7.12"
  }
 },
 "nbformat": 4,
 "nbformat_minor": 1
}
