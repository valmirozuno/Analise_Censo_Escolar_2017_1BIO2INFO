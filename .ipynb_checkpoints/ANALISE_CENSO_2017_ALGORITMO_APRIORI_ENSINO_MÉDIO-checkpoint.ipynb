{
 "cells": [
  {
   "cell_type": "markdown",
   "metadata": {},
   "source": [
    "## Este caderno aplica o algoritmo Apriori para construir regras de associação e identificar quais são os conjuntos de disciplinas que geralmente são ministradas em conjunto pelo mesmo professor"
   ]
  },
  {
   "cell_type": "code",
   "execution_count": 1,
   "metadata": {},
   "outputs": [],
   "source": [
    "import numpy as np\n",
    "import pandas as pd\n",
    "import matplotlib.pyplot as plt\n",
    "import dask.dataframe as dd\n",
    "from mlxtend.frequent_patterns import apriori\n",
    "from mlxtend.preprocessing import TransactionEncoder\n",
    "\n",
    "\n",
    "%matplotlib inline"
   ]
  },
  {
   "cell_type": "code",
   "execution_count": 2,
   "metadata": {},
   "outputs": [],
   "source": [
    "# É preciso mudar o nome do arquivo para mudar a região analisada\n",
    "# Por default esse caderno analisa a região Centro-Oeste\n",
    "\n",
    "# Lê os dados da região selecionada usando o Dask para não sobrecarregar a memória\n",
    "dc = dd.read_csv('DADOS/DOCENTES_CO.CSV', sep='|', dtype='object')"
   ]
  },
  {
   "cell_type": "code",
   "execution_count": 3,
   "metadata": {
    "scrolled": true
   },
   "outputs": [
    {
     "data": {
      "text/plain": [
       "['IN_DISC_QUIMICA',\n",
       " 'IN_DISC_FISICA',\n",
       " 'IN_DISC_MATEMATICA',\n",
       " 'IN_DISC_BIOLOGIA',\n",
       " 'IN_DISC_CIENCIAS',\n",
       " 'IN_DISC_LINGUA_PORTUGUESA',\n",
       " 'IN_DISC_LINGUA_INGLES',\n",
       " 'IN_DISC_LINGUA_ESPANHOL',\n",
       " 'IN_DISC_LINGUA_FRANCES',\n",
       " 'IN_DISC_LINGUA_OUTRA',\n",
       " 'IN_DISC_LINGUA_INDIGENA',\n",
       " 'IN_DISC_ARTES',\n",
       " 'IN_DISC_EDUCACAO_FISICA',\n",
       " 'IN_DISC_HISTORIA',\n",
       " 'IN_DISC_GEOGRAFIA',\n",
       " 'IN_DISC_FILOSOFIA',\n",
       " 'IN_DISC_ENSINO_RELIGIOSO',\n",
       " 'IN_DISC_ESTUDOS_SOCIAIS',\n",
       " 'IN_DISC_SOCIOLOGIA',\n",
       " 'IN_DISC_EST_SOCIAIS_SOCIOLOGIA',\n",
       " 'IN_DISC_INFORMATICA_COMPUTACAO',\n",
       " 'IN_DISC_PROFISSIONALIZANTE',\n",
       " 'IN_DISC_ATENDIMENTO_ESPECIAIS',\n",
       " 'IN_DISC_DIVER_SOCIO_CULTURAL',\n",
       " 'IN_DISC_LIBRAS',\n",
       " 'IN_DISC_PEDAGOGICAS',\n",
       " 'IN_DISC_OUTRAS',\n",
       " 'TP_TIPO_DOCENTE',\n",
       " 'TP_ETAPA_ENSINO',\n",
       " 'TP_DEPENDENCIA',\n",
       " 'TP_LOCALIZACAO']"
      ]
     },
     "execution_count": 3,
     "metadata": {},
     "output_type": "execute_result"
    }
   ],
   "source": [
    "# Listar as colunas que não precisamos para remover do Dataframe Dask, antes de computar\n",
    "# As colunas necessárias para identificar quais disciplinas são ministradas en comjunto são\n",
    "# as disciplinas e as colunas 'TP_TIPO_DOCENTE', 'TP_ETAPA_ENSINO', 'TP_DEPENDENCIA', 'TP_LOCALIZACAO'\n",
    "\n",
    "v_cols = ['NU_ANO_CENSO',\n",
    " 'CO_PESSOA_FISICA',\n",
    " 'NU_DIA',\n",
    " 'NU_MES',\n",
    " 'NU_ANO',\n",
    " 'NU_IDADE_REFERENCIA',\n",
    " 'NU_IDADE',\n",
    " 'TP_SEXO',\n",
    " 'TP_COR_RACA',\n",
    " 'TP_NACIONALIDADE',\n",
    " 'CO_PAIS_ORIGEM',\n",
    " 'CO_UF_NASC',\n",
    " 'CO_MUNICIPIO_NASC',\n",
    " 'CO_UF_END',\n",
    " 'CO_MUNICIPIO_END',\n",
    " 'IN_NECESSIDADE_ESPECIAL',\n",
    " 'IN_CEGUEIRA',\n",
    " 'IN_BAIXA_VISAO',\n",
    " 'IN_SURDEZ',\n",
    " 'IN_DEF_AUDITIVA',\n",
    " 'IN_SURDOCEGUEIRA',\n",
    " 'IN_DEF_FISICA',\n",
    " 'IN_DEF_INTELECTUAL',\n",
    " 'IN_DEF_MULTIPLA',\n",
    " 'TP_ESCOLARIDADE',\n",
    " 'TP_NORMAL_MAGISTERIO',\n",
    " 'TP_SITUACAO_CURSO_1',\n",
    " 'CO_AREA_CURSO_1',\n",
    " 'CO_CURSO_1',\n",
    " 'IN_LICENCIATURA_1',\n",
    " 'IN_COM_PEDAGOGICA_1',\n",
    " 'NU_ANO_INICIO_1',\n",
    " 'NU_ANO_CONCLUSAO_1',\n",
    " 'TP_TIPO_IES_1',\n",
    " 'CO_IES_1',\n",
    " 'TP_SITUACAO_CURSO_2',\n",
    " 'CO_AREA_CURSO_2',\n",
    " 'CO_CURSO_2',\n",
    " 'IN_LICENCIATURA_2',\n",
    " 'IN_COM_PEDAGOGICA_2',\n",
    " 'NU_ANO_INICIO_2',\n",
    " 'NU_ANO_CONCLUSAO_2',\n",
    " 'TP_TIPO_IES_2',\n",
    " 'CO_IES_2',\n",
    " 'TP_SITUACAO_CURSO_3',\n",
    " 'CO_AREA_CURSO_3',\n",
    " 'CO_CURSO_3',\n",
    " 'IN_LICENCIATURA_3',\n",
    " 'IN_COM_PEDAGOGICA_3',\n",
    " 'NU_ANO_INICIO_3',\n",
    " 'NU_ANO_CONCLUSAO_3',\n",
    " 'TP_TIPO_IES_3',\n",
    " 'CO_IES_3',\n",
    " 'IN_ESPECIALIZACAO',\n",
    " 'IN_MESTRADO',\n",
    " 'IN_DOUTORADO',\n",
    " 'IN_POS_NENHUM',\n",
    " 'IN_ESPECIFICO_CRECHE',\n",
    " 'IN_ESPECIFICO_PRE_ESCOLA',\n",
    " 'IN_ESPECIFICO_ANOS_INICIAIS',\n",
    " 'IN_ESPECIFICO_ANOS_FINAIS',\n",
    " 'IN_ESPECIFICO_ENS_MEDIO',\n",
    " 'IN_ESPECIFICO_EJA',\n",
    " 'IN_ESPECIFICO_ED_ESPECIAL',\n",
    " 'IN_ESPECIFICO_ED_INDIGENA',\n",
    " 'IN_ESPECIFICO_CAMPO',\n",
    " 'IN_ESPECIFICO_AMBIENTAL',\n",
    " 'IN_ESPECIFICO_DIR_HUMANOS',\n",
    " 'IN_ESPECIFICO_DIV_SEXUAL',\n",
    " 'IN_ESPECIFICO_DIR_ADOLESC',\n",
    " 'IN_ESPECIFICO_AFRO',\n",
    " 'IN_ESPECIFICO_OUTROS',\n",
    " 'IN_ESPECIFICO_NENHUM',\n",
    " 'TP_TIPO_CONTRATACAO',\n",
    " 'ID_TURMA',\n",
    " 'TP_TIPO_TURMA',\n",
    " 'TP_MEDIACAO_DIDATICO_PEDAGO',\n",
    " 'IN_ESPECIAL_EXCLUSIVA',\n",
    " 'IN_REGULAR',\n",
    " 'IN_EJA',\n",
    " 'IN_PROFISSIONALIZANTE',\n",
    " 'CO_CURSO_EDUC_PROFISSIONAL',\n",
    " 'CO_REGIAO',\n",
    " 'CO_MESORREGIAO',\n",
    " 'CO_MICRORREGIAO',\n",
    " 'CO_ENTIDADE',\n",
    " 'CO_UF',\n",
    " 'CO_MUNICIPIO',\n",
    " 'CO_DISTRITO',\n",
    " 'TP_ZONA_RESIDENCIAL',\n",
    " 'TP_CATEGORIA_ESCOLA_PRIVADA',\n",
    " 'IN_CONVENIADA_PP',\n",
    " 'TP_CONVENIO_PODER_PUBLICO',\n",
    " 'IN_MANT_ESCOLA_PRIVADA_EMP',\n",
    " 'IN_MANT_ESCOLA_PRIVADA_ONG',\n",
    " 'IN_MANT_ESCOLA_PRIVADA_SIND',\n",
    " 'IN_MANT_ESCOLA_PRIVADA_SIST_S',\n",
    " 'IN_MANT_ESCOLA_PRIVADA_S_FINS',\n",
    " 'TP_REGULAMENTACAO',\n",
    " 'TP_LOCALIZACAO_DIFERENCIADA',\n",
    " 'IN_EDUCACAO_INDIGENA']\n",
    "\n",
    "\n",
    "# Remove as colunas listadas e computar para carregar os dados\n",
    "dc_co = dc.drop(v_cols, axis=1).compute()\n",
    "\n",
    "# Imprime a lista de colunas que foram carregadas\n",
    "dc_co.columns.tolist()\n"
   ]
  },
  {
   "cell_type": "code",
   "execution_count": 4,
   "metadata": {},
   "outputs": [],
   "source": [
    "#Preenche as células NaN com 0 (zero)\n",
    "dc_co = dc_co.fillna(0)"
   ]
  },
  {
   "cell_type": "code",
   "execution_count": 5,
   "metadata": {
    "scrolled": true
   },
   "outputs": [
    {
     "name": "stderr",
     "output_type": "stream",
     "text": [
      "/home/zunokan/.local/lib/python2.7/site-packages/ipykernel_launcher.py:2: FutureWarning: convert_objects is deprecated.  To re-infer data dtypes for object columns, use DataFrame.infer_objects()\n",
      "For all other conversions use the data-type specific converters pd.to_datetime, pd.to_timedelta and pd.to_numeric.\n",
      "  \n"
     ]
    }
   ],
   "source": [
    "#converte os Dados de object para Numeric\n",
    "dc_co = dc_co.convert_objects(convert_numeric=True)"
   ]
  },
  {
   "cell_type": "code",
   "execution_count": 6,
   "metadata": {},
   "outputs": [],
   "source": [
    "#lst é a lista que contém os identificadores do Ensino Médio\n",
    "lst=[25,26,27,28,29,30,31,32,33,34,35,36,37,38]\n",
    "dc_co['TP_ETAPA_ENSINO'] = dc_co['TP_ETAPA_ENSINO'].astype(float)\n",
    "\n",
    "#elimina todas as linhas de docentes que não atuam no Ensino Médio\n",
    "dc_co = dc_co[dc_co.TP_ETAPA_ENSINO.isin(lst)]"
   ]
  },
  {
   "cell_type": "code",
   "execution_count": 7,
   "metadata": {},
   "outputs": [],
   "source": [
    "#lst contém os professores que estão atuando em sala de aula\n",
    "lst=[1]\n",
    "dc_co['TP_TIPO_DOCENTE'] = dc_co['TP_TIPO_DOCENTE'].astype(float)\n",
    "\n",
    "#Elimina as linhas dos professores que nao estão atuando em sala de aula\n",
    "dc_co = dc_co[dc_co.TP_TIPO_DOCENTE.isin(lst)]"
   ]
  },
  {
   "cell_type": "code",
   "execution_count": 8,
   "metadata": {},
   "outputs": [],
   "source": [
    "#lst contém as dependências estaduais e municipais\n",
    "lst=[2,3]\n",
    "dc_co['TP_DEPENDENCIA'] = dc_co['TP_DEPENDENCIA'].astype(float)\n",
    "dc_co = dc_co[dc_co.TP_DEPENDENCIA.isin(lst)]"
   ]
  },
  {
   "cell_type": "code",
   "execution_count": 9,
   "metadata": {},
   "outputs": [],
   "source": [
    "#lst contém os docentes da zona urbana\n",
    "lst=[1]\n",
    "dc_co['TP_LOCALIZACAO'] = dc_co['TP_LOCALIZACAO'].astype(float)\n",
    "urbana = dc_co[dc_co.TP_LOCALIZACAO.isin(lst)]\n",
    "\n",
    "\n",
    "#lst contém os docentes da zona rural\n",
    "lst=[2]\n",
    "dc_co['TP_LOCALIZACAO'] = dc_co['TP_LOCALIZACAO'].astype(float)\n",
    "rural = dc_co[dc_co.TP_LOCALIZACAO.isin(lst)]\n"
   ]
  },
  {
   "cell_type": "code",
   "execution_count": 10,
   "metadata": {
    "scrolled": true
   },
   "outputs": [
    {
     "data": {
      "text/plain": [
       "['IN_DISC_QUIMICA',\n",
       " 'IN_DISC_FISICA',\n",
       " 'IN_DISC_MATEMATICA',\n",
       " 'IN_DISC_BIOLOGIA',\n",
       " 'IN_DISC_CIENCIAS',\n",
       " 'IN_DISC_LINGUA_PORTUGUESA',\n",
       " 'IN_DISC_LINGUA_INGLES',\n",
       " 'IN_DISC_LINGUA_ESPANHOL',\n",
       " 'IN_DISC_LINGUA_FRANCES',\n",
       " 'IN_DISC_LINGUA_OUTRA',\n",
       " 'IN_DISC_LINGUA_INDIGENA',\n",
       " 'IN_DISC_ARTES',\n",
       " 'IN_DISC_EDUCACAO_FISICA',\n",
       " 'IN_DISC_HISTORIA',\n",
       " 'IN_DISC_GEOGRAFIA',\n",
       " 'IN_DISC_FILOSOFIA',\n",
       " 'IN_DISC_ENSINO_RELIGIOSO',\n",
       " 'IN_DISC_ESTUDOS_SOCIAIS',\n",
       " 'IN_DISC_SOCIOLOGIA',\n",
       " 'IN_DISC_EST_SOCIAIS_SOCIOLOGIA',\n",
       " 'IN_DISC_INFORMATICA_COMPUTACAO',\n",
       " 'IN_DISC_PROFISSIONALIZANTE',\n",
       " 'IN_DISC_ATENDIMENTO_ESPECIAIS',\n",
       " 'IN_DISC_DIVER_SOCIO_CULTURAL',\n",
       " 'IN_DISC_LIBRAS',\n",
       " 'IN_DISC_PEDAGOGICAS',\n",
       " 'IN_DISC_OUTRAS']"
      ]
     },
     "execution_count": 10,
     "metadata": {},
     "output_type": "execute_result"
    }
   ],
   "source": [
    "# Após a filtragem por etapa e dependencia da escola, deixar apenas as informações das disciplinas\n",
    "# Também é preciso remover a coluna IN_DISC_EST_SOCIAIS_SOCIOLOGIA pois ela é redundante \n",
    "u_cols=[27,28,29,30]\n",
    "\n",
    "# Elimina as colunas citadas acima\n",
    "dc_co = dc_co.drop(dc_co.columns[u_cols], axis=1)\n",
    "urbana = urbana.drop(urbana.columns[u_cols], axis=1)\n",
    "rural = rural.drop(rural.columns[u_cols], axis=1)\n",
    "\n",
    "# Lista \n",
    "dc_co.columns.tolist()"
   ]
  },
  {
   "cell_type": "code",
   "execution_count": 11,
   "metadata": {},
   "outputs": [],
   "source": [
    "# Aplicação do algoritmo apriori para as escolas da zona urbana\n",
    "result = apriori(urbana, min_support=0.01, use_colnames=True)\n",
    "\n",
    "# Ordena os resultados por ocorrência\n",
    "result = result.sort_values(by=\"support\", ascending=False)\n",
    "\n",
    "# Salva o resultado ordenado em um arquivo .csv\n",
    "result.to_csv('RESULTADOS/RES_CO_URBANA', sep='\\t')"
   ]
  },
  {
   "cell_type": "code",
   "execution_count": 12,
   "metadata": {},
   "outputs": [],
   "source": [
    "# Aplicação do algoritmo apriori para as escolas da zona rural\n",
    "result = apriori(rural, min_support=0.01, use_colnames=True)\n",
    "\n",
    "# Ordena os resultados por ocorrência\n",
    "result = result.sort_values(by=\"support\", ascending=False)\n",
    "\n",
    "# Salva o resultado ordenado em um arquivo .csv\n",
    "result.to_csv('RESULTADOS/RES_CO_RURAL', sep='\\t')"
   ]
  }
 ],
 "metadata": {
  "anaconda-cloud": {},
  "celltoolbar": "Raw Cell Format",
  "kernelspec": {
   "display_name": "Python 3",
   "language": "python",
   "name": "python3"
  },
  "language_info": {
   "codemirror_mode": {
    "name": "ipython",
    "version": 2
   },
   "file_extension": ".py",
   "mimetype": "text/x-python",
   "name": "python",
   "nbconvert_exporter": "python",
   "pygments_lexer": "ipython2",
   "version": "2.7.12"
  }
 },
 "nbformat": 4,
 "nbformat_minor": 1
}
